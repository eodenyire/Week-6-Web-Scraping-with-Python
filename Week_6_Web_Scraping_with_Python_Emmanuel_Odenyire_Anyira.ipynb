{
  "nbformat": 4,
  "nbformat_minor": 0,
  "metadata": {
    "colab": {
      "provenance": [],
      "toc_visible": true
    },
    "kernelspec": {
      "name": "python3",
      "display_name": "Python 3"
    }
  },
  "cells": [
    {
      "cell_type": "markdown",
      "metadata": {
        "id": "7i5A-UY4Yruf"
      },
      "source": [
        "<font color='#2F4F4F'>To use this notebook on Colaboratory, you will need to make a copy of it. Go to File > Save a Copy in Drive. You can then use the new copy that will appear in the new tab.</font>\n"
      ]
    },
    {
      "cell_type": "markdown",
      "metadata": {
        "id": "0rOdcI2Nzhky"
      },
      "source": [
        "# <font color='#2F4F4F'>AfterWork Data Science: Web Scraping with Python</font>"
      ]
    },
    {
      "cell_type": "markdown",
      "metadata": {
        "id": "Tcso2rJCNAGq"
      },
      "source": [
        "## <font color='#2F4F4F'>Prerequisites</font>"
      ]
    },
    {
      "cell_type": "code",
      "metadata": {
        "id": "QSHljMZTNCRI"
      },
      "source": [
        "# We first import the required libraries\n",
        "# ---\n",
        "#\n",
        "import pandas as pd             # library for data manupation\n",
        "import requests                 # library for fetching a web page \n",
        "from bs4 import BeautifulSoup   # library for extrating contents from a webpage "
      ],
      "execution_count": 1,
      "outputs": []
    },
    {
      "cell_type": "markdown",
      "metadata": {
        "id": "CRmt1rRHgZRG"
      },
      "source": [
        "## <font color='#2F4F4F'>Step 1: Obtaining our Data</font>"
      ]
    },
    {
      "cell_type": "code",
      "metadata": {
        "id": "cM5TKD-P1h7Z",
        "colab": {
          "base_uri": "https://localhost:8080/"
        },
        "outputId": "db6188eb-31f5-4369-a28d-7cfe165cf99d"
      },
      "source": [
        "# PigiaMe: https://www.pigiame.co.ke/it-software-jobs\n",
        "# ---\n",
        "#\n",
        "pigia_me = requests.get('https://www.pigiame.co.ke/it-software-jobs')\n",
        "pigia_me"
      ],
      "execution_count": 2,
      "outputs": [
        {
          "output_type": "execute_result",
          "data": {
            "text/plain": [
              "<Response [200]>"
            ]
          },
          "metadata": {},
          "execution_count": 2
        }
      ]
    },
    {
      "cell_type": "code",
      "metadata": {
        "id": "OfUvfxrD1nQC",
        "colab": {
          "base_uri": "https://localhost:8080/"
        },
        "outputId": "42c1dd0c-69dd-4cac-a9ec-a515912561f2"
      },
      "source": [
        "# MyJobMag: https://www.myjobmag.co.ke/jobs-by-field/information-technology\n",
        "# ---\n",
        "my_job_mag = requests.get('https://www.myjobmag.co.ke/jobs-by-field/information-technology')\n",
        "my_job_mag"
      ],
      "execution_count": 4,
      "outputs": [
        {
          "output_type": "execute_result",
          "data": {
            "text/plain": [
              "<Response [200]>"
            ]
          },
          "metadata": {},
          "execution_count": 4
        }
      ]
    },
    {
      "cell_type": "code",
      "metadata": {
        "id": "psWrYhRUQDJC",
        "colab": {
          "base_uri": "https://localhost:8080/"
        },
        "outputId": "037d5b84-9d56-4689-8712-82f27e4deb4d"
      },
      "source": [
        "# KenyanJob: https://www.kenyajob.com/job-vacancies-search-kenya?f%5B0%5D=im_field_offre_secteur%3A133\n",
        "# ---\n",
        "#\n",
        "kenyan_job = requests.get('https://www.kenyajob.com/job-vacancies-search-kenya?f%5B0%5D=im_field_offre_secteur%3A133')\n",
        "kenyan_job"
      ],
      "execution_count": 6,
      "outputs": [
        {
          "output_type": "execute_result",
          "data": {
            "text/plain": [
              "<Response [200]>"
            ]
          },
          "metadata": {},
          "execution_count": 6
        }
      ]
    },
    {
      "cell_type": "markdown",
      "metadata": {
        "id": "h7iRb8U8hHNw"
      },
      "source": [
        "## <font color='#2F4F4F'>Step 2: Parsing</font>"
      ]
    },
    {
      "cell_type": "code",
      "metadata": {
        "id": "AXWSK1kD2oeN"
      },
      "source": [
        "# Parsing our document: pigia_me\n",
        "# ---\n",
        "# \n",
        "pigia_me_soup = BeautifulSoup(pigia_me.text, 'html.parser')\n"
      ],
      "execution_count": 15,
      "outputs": []
    },
    {
      "cell_type": "code",
      "metadata": {
        "id": "lrH9mgR82pzg"
      },
      "source": [
        "# Parsing our document: my_job_mag\n",
        "# ---\n",
        "#  \n",
        "my_job_mag_soup = BeautifulSoup(my_job_mag.text, 'html.parser')\n"
      ],
      "execution_count": 16,
      "outputs": []
    },
    {
      "cell_type": "code",
      "metadata": {
        "id": "O0x-Wz03QP5O"
      },
      "source": [
        "# Parsing our document: kenyan_job\n",
        "# ---\n",
        "# \n",
        "kenyan_job_soup = BeautifulSoup(kenyan_job.text, 'html.parser')\n"
      ],
      "execution_count": 17,
      "outputs": []
    },
    {
      "cell_type": "markdown",
      "metadata": {
        "id": "_OxuOAIXhPl5"
      },
      "source": [
        "## <font color='#2F4F4F'>Step 3: Extracting Required Elements</font>"
      ]
    },
    {
      "cell_type": "code",
      "source": [
        "# 1. Extracting job titles and links: pigia me\n",
        "# ---\n",
        "# \n",
        "# find the tag where the jobs are actually listed in the page\n",
        "pigia_me_jobs = pigia_me_soup.find_all('div', class_ = \"listings-cards__list-item \")\n",
        "\n",
        "# create two lists to store the results of our job titles and link\n",
        "pigia_me_job_title = []\n",
        "pigia_me_job_link = []\n",
        "\n",
        "# iterate through each job in the found jobs\n",
        "for job in pigia_me_jobs:\n",
        "  # find the job title text and strip for any whitespaces\n",
        "  title = job.find('div', class_ = 'listing-card__header__title').text.strip()\n",
        "  # find the link text in the a tag \n",
        "  link = job.a['href']\n",
        "  # append our results to the respective lists\n",
        "  pigia_me_job_title.append(title)\n",
        "  pigia_me_job_link.append(link)\n",
        "\n",
        "# Print the results in the two lists\n",
        "print(pigia_me_job_title)\n",
        "print(pigia_me_job_link)"
      ],
      "metadata": {
        "colab": {
          "base_uri": "https://localhost:8080/"
        },
        "id": "dE-_yBByfVWv",
        "outputId": "1a01f746-e8c7-451f-dc01-bbdacc974493"
      },
      "execution_count": 24,
      "outputs": [
        {
          "output_type": "stream",
          "name": "stdout",
          "text": [
            "['Assistant IT Administrator', 'Frontend Developer', 'CRM Enginee', 'Analyst Programmer', 'Senior Game Developer', 'Lead Full Stack Engineer', 'Senior Front-end Developer', 'Monitoring & Spatial Data Analyst - Based in Kakamega County', 'Application Engineer', 'Database Administrator']\n",
            "['https://www.pigiame.co.ke/listings/assistant-it-administrator-5471542', 'https://www.pigiame.co.ke/listings/frontend-developer-5471441', 'https://www.pigiame.co.ke/listings/crm-enginee-5471294', 'https://www.pigiame.co.ke/listings/analyst-programmer-5469047', 'https://www.pigiame.co.ke/listings/senior-game-developer-5468130', 'https://www.pigiame.co.ke/listings/lead-full-stack-engineer-5467710', 'https://www.pigiame.co.ke/listings/senior-front-end-developer-5467695', 'https://www.pigiame.co.ke/listings/monitoring-spatial-data-analyst-based-in-kakamega-county-5464825', 'https://www.pigiame.co.ke/listings/application-engineer-5464308', 'https://www.pigiame.co.ke/listings/database-administrator-5464302']\n"
          ]
        }
      ]
    },
    {
      "cell_type": "code",
      "metadata": {
        "id": "NNLbrng_3QfA",
        "colab": {
          "base_uri": "https://localhost:8080/"
        },
        "outputId": "3b7a4669-4bf5-407f-fc1b-0a917dded13f"
      },
      "source": [
        "# 2. Extracting job titles: my_job_mag\n",
        "# ---\n",
        "# \n",
        "# find the tag where the jobs are actually listed in the page\n",
        "my_job_mag_jobs = my_job_mag_soup.find_all('li', class_ = \"job-list-li\")\n",
        "\n",
        "# create two lists to store the results of our job titles and link\n",
        "my_job_mag_job_title = []\n",
        "my_job_mag_job_link = []\n",
        "\n",
        "# iterate through each job in the found jobs\n",
        "for job in my_job_mag_jobs:\n",
        "    # check to confirm that the h2 tag in each job does not return a None type\n",
        "    if job.h2:\n",
        "      # find the job title text in the h2 tag and strip for any whitespaces\n",
        "      title = job.h2.text.strip()\n",
        "      # find the link text in the a tag inside h2 tag, concatinate this to the website url to get the complete link\n",
        "      link = link = 'https://www.myjobmag.co.ke' + job.h2.a['href']\n",
        "      \n",
        "      # append our results to the respective lists\n",
        "      my_job_mag_job_title.append(title)\n",
        "      my_job_mag_job_link.append(link)\n",
        "\n",
        "# Print the results in the two lists\n",
        "print(my_job_mag_job_title)\n",
        "print(my_job_mag_job_link)"
      ],
      "execution_count": 25,
      "outputs": [
        {
          "output_type": "stream",
          "name": "stdout",
          "text": [
            "['Senior Records Management Assistant (One position) at Kenya Institute for Public Policy Research and Analysis (KIPPRA)', 'Records Management Officer (One position) at Kenya Institute for Public Policy Research and Analysis (KIPPRA)', 'Senior Librarian (One position) at Kenya Institute for Public Policy Research and Analysis (KIPPRA)', 'Principal Information Communication Technology Officer (One position) at Kenya Institute for Public Policy Research and Analysis (KIPPRA)', 'DevOps Engineer at Andela', 'Web Designer at The Chambers Federation', 'Visual Content Designer at The Chambers Federation', 'CRM Engineer at Safaricom Kenya', 'ICT - Intern at Kenya Deposit Insurance Corporation', 'Technology in Programmes Advisor at Trocaire', 'Graduate Assistant in Computer Science at Mama Ngina University College (MNUC)', 'Technical Account Manager at Angaza', 'Consultant for Web Design Training at Finn Church Aid (FCA)', 'Technical Advisor, Information Security Engineer, Data.FI at Palladium International', 'Tech Lead - Payment Methods at Cellulant Corporation', 'Head of Design (UI/UX) at Cellulant Corporation', 'Audio Visual Technician at Embassy of The United States', 'Enterprise Architecture Governance Analyst at KCB Bank Kenya']\n",
            "['https://www.myjobmag.co.ke/job/senior-records-management-assistant-one-position-kenya-institute-for-public-policy-research-and-analysis-kippra', 'https://www.myjobmag.co.ke/job/records-management-officer-one-position-kenya-institute-for-public-policy-research-and-analysis-kippra', 'https://www.myjobmag.co.ke/job/senior-librarian-one-position-kenya-institute-for-public-policy-research-and-analysis-kippra', 'https://www.myjobmag.co.ke/job/principal-information-communication-technology-officer-one-position-kenya-institute-for-public-policy-research-and-analysis-kippra', 'https://www.myjobmag.co.ke/job/devops-engineer-andela', 'https://www.myjobmag.co.ke/job/web-designer-the-chambers-federation', 'https://www.myjobmag.co.ke/job/visual-content-designer-the-chambers-federation', 'https://www.myjobmag.co.ke/job/crm-engineer-safaricom-kenya-3', 'https://www.myjobmag.co.ke/job/ict-intern-kenya-deposit-insurance-corporation', 'https://www.myjobmag.co.ke/job/technology-in-programmes-advisor-trocaire', 'https://www.myjobmag.co.ke/job/mama-ngina-university-college-mama-ngina-university-college-mnuc', 'https://www.myjobmag.co.ke/job/technical-account-manager-angaza', 'https://www.myjobmag.co.ke/job/consultant-for-web-design-training-finn-church-aid-fca', 'https://www.myjobmag.co.ke/job/technical-advisor-information-security-engineer-data-fi-palladium-international', 'https://www.myjobmag.co.ke/job/tech-lead-payment-methods-cellulant-corporation-1', 'https://www.myjobmag.co.ke/job/head-of-design-ui-ux-cellulant-corporation', 'https://www.myjobmag.co.ke/job/audio-visual-technician-embassy-of-the-united-states', 'https://www.myjobmag.co.ke/job/enterprise-architecture-governance-analyst-kcb-bank-kenya-1']\n"
          ]
        }
      ]
    },
    {
      "cell_type": "code",
      "metadata": {
        "id": "I0fQKn63QV0R",
        "colab": {
          "base_uri": "https://localhost:8080/"
        },
        "outputId": "d0b6e12d-ee70-4de0-cd8d-8bc0870438ce"
      },
      "source": [
        "# 3. Extracting job titles: kenyan_job\n",
        "# ---\n",
        "#\n",
        "# find the tag where the jobs are actually listed in the page\n",
        "kenya_jobs = kenyan_job_soup.find_all('div', class_ = \"job-description-wrapper\")\n",
        "\n",
        "# create two lists to store the results of our job titles and link\n",
        "kenyan_job_title = []\n",
        "kenyan_job_link = []\n",
        "# iterate through each job in the found jobs\n",
        "for job in kenya_jobs:\n",
        "  # find the link text\n",
        "  link = job['data-href']\n",
        "  # Find the title text, notice that we get the text property of the div class job-description-wrapper \n",
        "  # and strip it of any leading and trailing spaces, then split on the '\\n' character, we can access the title as the 1st element\n",
        "  title = job.text.strip().split('\\n')[0]\n",
        "\n",
        "  # append our results to the respective lists\n",
        "  kenyan_job_link.append(link)\n",
        "  kenyan_job_title.append(title)\n",
        "\n",
        "# Print the results in the two lists\n",
        "print(kenyan_job_link)\n",
        "print(kenyan_job_title)"
      ],
      "execution_count": 26,
      "outputs": [
        {
          "output_type": "stream",
          "name": "stdout",
          "text": [
            "['https://www.kenyajob.com/job-vacancies-kenya/java-ee-java-8-developer-sql-skills-130458', 'https://www.kenyajob.com/job-vacancies-kenya/senior-freelance-web-designer-130459', 'https://www.kenyajob.com/job-vacancies-kenya/accountantadministrator-126803', 'https://www.kenyajob.com/job-vacancies-kenya/cctv-fire-alarms-systems-technician-127106', 'https://www.kenyajob.com/job-vacancies-kenya/cctv-fire-alarms-systems-technician-127107', 'https://www.kenyajob.com/job-vacancies-kenya/information-technology-sales-specialist-129253', 'https://www.kenyajob.com/job-vacancies-kenya/aws-cloud-architect-mf-129511', 'https://www.kenyajob.com/job-vacancies-kenya/aws-solutions-architect-mf-129512', 'https://www.kenyajob.com/job-vacancies-kenya/azure-solutions-architect-mf-129513', 'https://www.kenyajob.com/job-vacancies-kenya/cloud-architect-mf-129514', 'https://www.kenyajob.com/job-vacancies-kenya/cloud-computing-virtualization-engineer-mf-129515', 'https://www.kenyajob.com/job-vacancies-kenya/cloud-engineer-mf-129516', 'https://www.kenyajob.com/job-vacancies-kenya/cloud-microservices-architect-mf-129517', 'https://www.kenyajob.com/job-vacancies-kenya/cloud-system-administrator-mf-129518', 'https://www.kenyajob.com/job-vacancies-kenya/cloud-system-integrator-mf-129519', 'https://www.kenyajob.com/job-vacancies-kenya/cyber-security-engineer-mf-129520', 'https://www.kenyajob.com/job-vacancies-kenya/datastage-architect-mf-129521', 'https://www.kenyajob.com/job-vacancies-kenya/genesys-architect-mf-129522', 'https://www.kenyajob.com/job-vacancies-kenya/network-architect-mf-129523', 'https://www.kenyajob.com/job-vacancies-kenya/angular-developer-mf-129524', 'https://www.kenyajob.com/job-vacancies-kenya/devops-engineer-mf-129525', 'https://www.kenyajob.com/job-vacancies-kenya/dotnet-developer-mf-129526', 'https://www.kenyajob.com/job-vacancies-kenya/ios-developer-mf-129527', 'https://www.kenyajob.com/job-vacancies-kenya/java-developer-mf-129528', 'https://www.kenyajob.com/job-vacancies-kenya/java-jee-developer-mf-129529']\n",
            "['JAVA EE / JAVA 8 Developer with SQL Skills', 'Senior Freelance Web Designer', 'Accountant/Administrator', 'CCTV and Fire Alarms Systems Technician', 'CCTV and Fire Alarms Systems Technician', 'Information Technology Sales Specialist', 'AWS Cloud Architect (M/F)', 'AWS Solutions Architect (M/F)', 'AZURE Solutions Architect (M/F)', 'Cloud Architect (M/F)', 'Cloud Computing and Virtualization Engineer (M/F)', 'Cloud Engineer (M/F)', 'Cloud Microservices Architect (M/F)', 'Cloud System Administrator (M/F)', 'Cloud System Integrator (M/F)', 'Cyber Security Engineer (M/F)', 'DATASTAGE Architect (M/F)', 'GENESYS Architect (M/F)', 'Network Architect (M/F)', 'ANGULAR Developer (M/F)', 'DevOps Engineer (M/F)', 'DOTNET Developer (M/F)', 'IOS Developer (M/F)', 'JAVA Developer (M/F)', 'JAVA JEE Developer (M/F)']\n"
          ]
        }
      ]
    },
    {
      "cell_type": "markdown",
      "metadata": {
        "id": "7ePXABAihaKn"
      },
      "source": [
        "## <font color='#2F4F4F'>Step 4: Saving our Data</font>"
      ]
    },
    {
      "cell_type": "code",
      "metadata": {
        "id": "fsG9pQXk5f8y",
        "colab": {
          "base_uri": "https://localhost:8080/",
          "height": 206
        },
        "outputId": "14e64c18-03bc-42be-b29a-ee79ef3d1542"
      },
      "source": [
        "# Saving the scraped contents in a dataframe and preview our data\n",
        "# ---\n",
        "#\n",
        "# combine the lists from the three jobs into one list\n",
        "job_titles = pigia_me_job_title + my_job_mag_job_title + kenyan_job_title\n",
        "url_links = pigia_me_job_link + my_job_mag_job_link + kenyan_job_link\n",
        "\n",
        "# create a pandas DataFrame using our combined lists\n",
        "df = pd.DataFrame({\"Job Title\": job_titles, \"link_url\": url_links})\n",
        "\n",
        "# get 20 random job from the DataFrame\n",
        "df.head()\n"
      ],
      "execution_count": 29,
      "outputs": [
        {
          "output_type": "execute_result",
          "data": {
            "text/plain": [
              "                    Job Title  \\\n",
              "0  Assistant IT Administrator   \n",
              "1          Frontend Developer   \n",
              "2                 CRM Enginee   \n",
              "3          Analyst Programmer   \n",
              "4       Senior Game Developer   \n",
              "\n",
              "                                            link_url  \n",
              "0  https://www.pigiame.co.ke/listings/assistant-i...  \n",
              "1  https://www.pigiame.co.ke/listings/frontend-de...  \n",
              "2  https://www.pigiame.co.ke/listings/crm-enginee...  \n",
              "3  https://www.pigiame.co.ke/listings/analyst-pro...  \n",
              "4  https://www.pigiame.co.ke/listings/senior-game...  "
            ],
            "text/html": [
              "\n",
              "  <div id=\"df-85f95b83-f68f-419e-b8e1-40a42c4a65b2\">\n",
              "    <div class=\"colab-df-container\">\n",
              "      <div>\n",
              "<style scoped>\n",
              "    .dataframe tbody tr th:only-of-type {\n",
              "        vertical-align: middle;\n",
              "    }\n",
              "\n",
              "    .dataframe tbody tr th {\n",
              "        vertical-align: top;\n",
              "    }\n",
              "\n",
              "    .dataframe thead th {\n",
              "        text-align: right;\n",
              "    }\n",
              "</style>\n",
              "<table border=\"1\" class=\"dataframe\">\n",
              "  <thead>\n",
              "    <tr style=\"text-align: right;\">\n",
              "      <th></th>\n",
              "      <th>Job Title</th>\n",
              "      <th>link_url</th>\n",
              "    </tr>\n",
              "  </thead>\n",
              "  <tbody>\n",
              "    <tr>\n",
              "      <th>0</th>\n",
              "      <td>Assistant IT Administrator</td>\n",
              "      <td>https://www.pigiame.co.ke/listings/assistant-i...</td>\n",
              "    </tr>\n",
              "    <tr>\n",
              "      <th>1</th>\n",
              "      <td>Frontend Developer</td>\n",
              "      <td>https://www.pigiame.co.ke/listings/frontend-de...</td>\n",
              "    </tr>\n",
              "    <tr>\n",
              "      <th>2</th>\n",
              "      <td>CRM Enginee</td>\n",
              "      <td>https://www.pigiame.co.ke/listings/crm-enginee...</td>\n",
              "    </tr>\n",
              "    <tr>\n",
              "      <th>3</th>\n",
              "      <td>Analyst Programmer</td>\n",
              "      <td>https://www.pigiame.co.ke/listings/analyst-pro...</td>\n",
              "    </tr>\n",
              "    <tr>\n",
              "      <th>4</th>\n",
              "      <td>Senior Game Developer</td>\n",
              "      <td>https://www.pigiame.co.ke/listings/senior-game...</td>\n",
              "    </tr>\n",
              "  </tbody>\n",
              "</table>\n",
              "</div>\n",
              "      <button class=\"colab-df-convert\" onclick=\"convertToInteractive('df-85f95b83-f68f-419e-b8e1-40a42c4a65b2')\"\n",
              "              title=\"Convert this dataframe to an interactive table.\"\n",
              "              style=\"display:none;\">\n",
              "        \n",
              "  <svg xmlns=\"http://www.w3.org/2000/svg\" height=\"24px\"viewBox=\"0 0 24 24\"\n",
              "       width=\"24px\">\n",
              "    <path d=\"M0 0h24v24H0V0z\" fill=\"none\"/>\n",
              "    <path d=\"M18.56 5.44l.94 2.06.94-2.06 2.06-.94-2.06-.94-.94-2.06-.94 2.06-2.06.94zm-11 1L8.5 8.5l.94-2.06 2.06-.94-2.06-.94L8.5 2.5l-.94 2.06-2.06.94zm10 10l.94 2.06.94-2.06 2.06-.94-2.06-.94-.94-2.06-.94 2.06-2.06.94z\"/><path d=\"M17.41 7.96l-1.37-1.37c-.4-.4-.92-.59-1.43-.59-.52 0-1.04.2-1.43.59L10.3 9.45l-7.72 7.72c-.78.78-.78 2.05 0 2.83L4 21.41c.39.39.9.59 1.41.59.51 0 1.02-.2 1.41-.59l7.78-7.78 2.81-2.81c.8-.78.8-2.07 0-2.86zM5.41 20L4 18.59l7.72-7.72 1.47 1.35L5.41 20z\"/>\n",
              "  </svg>\n",
              "      </button>\n",
              "      \n",
              "  <style>\n",
              "    .colab-df-container {\n",
              "      display:flex;\n",
              "      flex-wrap:wrap;\n",
              "      gap: 12px;\n",
              "    }\n",
              "\n",
              "    .colab-df-convert {\n",
              "      background-color: #E8F0FE;\n",
              "      border: none;\n",
              "      border-radius: 50%;\n",
              "      cursor: pointer;\n",
              "      display: none;\n",
              "      fill: #1967D2;\n",
              "      height: 32px;\n",
              "      padding: 0 0 0 0;\n",
              "      width: 32px;\n",
              "    }\n",
              "\n",
              "    .colab-df-convert:hover {\n",
              "      background-color: #E2EBFA;\n",
              "      box-shadow: 0px 1px 2px rgba(60, 64, 67, 0.3), 0px 1px 3px 1px rgba(60, 64, 67, 0.15);\n",
              "      fill: #174EA6;\n",
              "    }\n",
              "\n",
              "    [theme=dark] .colab-df-convert {\n",
              "      background-color: #3B4455;\n",
              "      fill: #D2E3FC;\n",
              "    }\n",
              "\n",
              "    [theme=dark] .colab-df-convert:hover {\n",
              "      background-color: #434B5C;\n",
              "      box-shadow: 0px 1px 3px 1px rgba(0, 0, 0, 0.15);\n",
              "      filter: drop-shadow(0px 1px 2px rgba(0, 0, 0, 0.3));\n",
              "      fill: #FFFFFF;\n",
              "    }\n",
              "  </style>\n",
              "\n",
              "      <script>\n",
              "        const buttonEl =\n",
              "          document.querySelector('#df-85f95b83-f68f-419e-b8e1-40a42c4a65b2 button.colab-df-convert');\n",
              "        buttonEl.style.display =\n",
              "          google.colab.kernel.accessAllowed ? 'block' : 'none';\n",
              "\n",
              "        async function convertToInteractive(key) {\n",
              "          const element = document.querySelector('#df-85f95b83-f68f-419e-b8e1-40a42c4a65b2');\n",
              "          const dataTable =\n",
              "            await google.colab.kernel.invokeFunction('convertToInteractive',\n",
              "                                                     [key], {});\n",
              "          if (!dataTable) return;\n",
              "\n",
              "          const docLinkHtml = 'Like what you see? Visit the ' +\n",
              "            '<a target=\"_blank\" href=https://colab.research.google.com/notebooks/data_table.ipynb>data table notebook</a>'\n",
              "            + ' to learn more about interactive tables.';\n",
              "          element.innerHTML = '';\n",
              "          dataTable['output_type'] = 'display_data';\n",
              "          await google.colab.output.renderOutput(dataTable, element);\n",
              "          const docLink = document.createElement('div');\n",
              "          docLink.innerHTML = docLinkHtml;\n",
              "          element.appendChild(docLink);\n",
              "        }\n",
              "      </script>\n",
              "    </div>\n",
              "  </div>\n",
              "  "
            ]
          },
          "metadata": {},
          "execution_count": 29
        }
      ]
    }
  ]
}